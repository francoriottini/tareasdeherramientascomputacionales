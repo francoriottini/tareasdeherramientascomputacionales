{
  "nbformat": 4,
  "nbformat_minor": 0,
  "metadata": {
    "colab": {
      "name": "Tarea1.ipynb",
      "provenance": [],
      "include_colab_link": true
    },
    "kernelspec": {
      "name": "python3",
      "display_name": "Python 3"
    },
    "language_info": {
      "name": "python"
    }
  },
  "cells": [
    {
      "cell_type": "markdown",
      "metadata": {
        "id": "view-in-github",
        "colab_type": "text"
      },
      "source": [
        "<a href=\"https://colab.research.google.com/github/francoriottini/tareasdeherramientascomputacionales/blob/main/Tarea1.ipynb\" target=\"_parent\"><img src=\"https://colab.research.google.com/assets/colab-badge.svg\" alt=\"Open In Colab\"/></a>"
      ]
    },
    {
      "cell_type": "code",
      "execution_count": 2,
      "metadata": {
        "colab": {
          "resources": {
            "http://localhost:8080/nbextensions/google.colab/files.js": {
              "data": "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",
              "ok": true,
              "headers": [
                [
                  "content-type",
                  "application/javascript"
                ]
              ],
              "status": 200,
              "status_text": ""
            }
          },
          "base_uri": "https://localhost:8080/",
          "height": 73
        },
        "id": "qebHvI4Ac-v6",
        "outputId": "f56875d9-4d45-4ccd-d313-bedac796b628"
      },
      "outputs": [
        {
          "output_type": "display_data",
          "data": {
            "text/plain": [
              "<IPython.core.display.HTML object>"
            ],
            "text/html": [
              "\n",
              "     <input type=\"file\" id=\"files-674b5e6d-0c30-407d-977e-8cbb7d802fe6\" name=\"files[]\" multiple disabled\n",
              "        style=\"border:none\" />\n",
              "     <output id=\"result-674b5e6d-0c30-407d-977e-8cbb7d802fe6\">\n",
              "      Upload widget is only available when the cell has been executed in the\n",
              "      current browser session. Please rerun this cell to enable.\n",
              "      </output>\n",
              "      <script src=\"/nbextensions/google.colab/files.js\"></script> "
            ]
          },
          "metadata": {}
        },
        {
          "output_type": "stream",
          "name": "stdout",
          "text": [
            "Saving tarea.csv to tarea (1).csv\n"
          ]
        }
      ],
      "source": [
        "from google.colab import files\n",
        "uploaded = files.upload()\n"
      ]
    },
    {
      "cell_type": "code",
      "source": [
        "import pandas as pd\n",
        "import io\n",
        "unknown = pd.read_csv(io.StringIO(uploaded['tarea.csv'].decode('utf-8'))) #Subimos la base y la nombramos unknown"
      ],
      "metadata": {
        "id": "jo9LhIfAd8A0"
      },
      "execution_count": 3,
      "outputs": []
    },
    {
      "cell_type": "code",
      "source": [
        "print(unknown.head()) #Mostramos las primeras 5 filas"
      ],
      "metadata": {
        "colab": {
          "base_uri": "https://localhost:8080/"
        },
        "id": "3qu4tT5Ke1Tj",
        "outputId": "d01cd83d-10f8-4936-c0b1-8ec9fbf8333f"
      },
      "execution_count": 4,
      "outputs": [
        {
          "output_type": "stream",
          "name": "stdout",
          "text": [
            "   carat      cut color clarity  depth  table  price     x     y     z\n",
            "0   0.23    Ideal     E     SI2   61.5   55.0    326  3.95  3.98  2.43\n",
            "1   0.21  Premium     E     SI1   59.8   61.0    326  3.89  3.84  2.31\n",
            "2   0.23     Good     E     VS1   56.9   65.0    327  4.05  4.07  2.31\n",
            "3   0.29  Premium     I     VS2   62.4   58.0    334  4.20  4.23  2.63\n",
            "4   0.31     Good     J     SI2   63.3   58.0    335  4.34  4.35  2.75\n"
          ]
        }
      ]
    },
    {
      "cell_type": "code",
      "source": [
        "print(unknown.head(3)) #Mostramos las primeras 3 filas"
      ],
      "metadata": {
        "colab": {
          "base_uri": "https://localhost:8080/"
        },
        "id": "iSWUDCeYfA0Z",
        "outputId": "3c317f37-50d0-4825-c437-12e7aafab6d5"
      },
      "execution_count": 5,
      "outputs": [
        {
          "output_type": "stream",
          "name": "stdout",
          "text": [
            "   carat      cut color clarity  depth  table  price     x     y     z\n",
            "0   0.23    Ideal     E     SI2   61.5   55.0    326  3.95  3.98  2.43\n",
            "1   0.21  Premium     E     SI1   59.8   61.0    326  3.89  3.84  2.31\n",
            "2   0.23     Good     E     VS1   56.9   65.0    327  4.05  4.07  2.31\n"
          ]
        }
      ]
    },
    {
      "cell_type": "code",
      "source": [
        "print(unknown.cut) #Imprimimos la columna 'cut'\n",
        "#print(pd.DataFrame(unknown, columns = ['cut'])) #Alternativa como dataframe"
      ],
      "metadata": {
        "colab": {
          "base_uri": "https://localhost:8080/"
        },
        "id": "B0xA52GXhT4S",
        "outputId": "b791c346-577c-4f32-f092-0a475202d8e0"
      },
      "execution_count": 6,
      "outputs": [
        {
          "output_type": "stream",
          "name": "stdout",
          "text": [
            "0            Ideal\n",
            "1          Premium\n",
            "2             Good\n",
            "3          Premium\n",
            "4             Good\n",
            "           ...    \n",
            "53935        Ideal\n",
            "53936         Good\n",
            "53937    Very Good\n",
            "53938      Premium\n",
            "53939        Ideal\n",
            "Name: cut, Length: 53940, dtype: object\n"
          ]
        }
      ]
    },
    {
      "cell_type": "code",
      "source": [
        "#Creamos la serie \"calidad - color\"\n",
        "#unknown.color\n",
        "#unknown[\"color\"]\n",
        "calidadcolor = unknown[[\"cut\", \"color\"]].apply(\"-\".join, axis = 1)\n",
        "print(calidadcolor)\n",
        "#unknown[\"calidad-color\"] = unknown[[\"cut\", \"color\"]].apply(\"-\".join, axis = 1) #También podemos agregarlo como nueva columna a la base\n",
        "#print(unknown[\"calidad-color\"]) #Refleja lo mismo que antes"
      ],
      "metadata": {
        "id": "-QMti-ymkHeg",
        "colab": {
          "base_uri": "https://localhost:8080/"
        },
        "outputId": "53dd12ac-aa3a-4d5e-e68f-e543c3c0a174"
      },
      "execution_count": 7,
      "outputs": [
        {
          "output_type": "stream",
          "name": "stdout",
          "text": [
            "0            Ideal-E\n",
            "1          Premium-E\n",
            "2             Good-E\n",
            "3          Premium-I\n",
            "4             Good-J\n",
            "            ...     \n",
            "53935        Ideal-D\n",
            "53936         Good-D\n",
            "53937    Very Good-D\n",
            "53938      Premium-H\n",
            "53939        Ideal-D\n",
            "Length: 53940, dtype: object\n"
          ]
        }
      ]
    },
    {
      "cell_type": "code",
      "source": [
        "shape = unknown.shape\n",
        "print(f\"The shape of the db is: {shape}\")\n",
        "\n",
        "dtypes = unknown.dtypes\n",
        "print(f\"Types of each column are:\")\n",
        "print(dtypes)"
      ],
      "metadata": {
        "colab": {
          "base_uri": "https://localhost:8080/"
        },
        "id": "oSAmY60qtuav",
        "outputId": "bba21da5-3b32-425e-b404-2edca61b45df"
      },
      "execution_count": 8,
      "outputs": [
        {
          "output_type": "stream",
          "name": "stdout",
          "text": [
            "The shape of the db is: (53940, 10)\n",
            "Types of each column are:\n",
            "carat      float64\n",
            "cut         object\n",
            "color       object\n",
            "clarity     object\n",
            "depth      float64\n",
            "table      float64\n",
            "price        int64\n",
            "x          float64\n",
            "y          float64\n",
            "z          float64\n",
            "dtype: object\n"
          ]
        }
      ]
    },
    {
      "cell_type": "code",
      "source": [
        "print(unknown.describe(include=['object']))"
      ],
      "metadata": {
        "colab": {
          "base_uri": "https://localhost:8080/"
        },
        "id": "GaxGBmm2vzlc",
        "outputId": "9f4caaa8-8c96-4d1f-848d-bb137cead0f7"
      },
      "execution_count": 9,
      "outputs": [
        {
          "output_type": "stream",
          "name": "stdout",
          "text": [
            "          cut  color clarity\n",
            "count   53940  53940   53940\n",
            "unique      5      7       8\n",
            "top     Ideal      G     SI1\n",
            "freq    21551  11292   13065\n"
          ]
        }
      ]
    },
    {
      "cell_type": "code",
      "source": [
        "print(f\"La base original es: \\n\\n {unknown.head()}\\n\")\n",
        "#unknown.head()\n",
        "modifunknown = unknown.rename(columns = {\"clarity\": \"claridad\", \"cut\": \"calidad\"})\n",
        "#modifunknown.head()\n",
        "print(f\"La base modificada es: \\n\\n {modifunknown.head()}\")"
      ],
      "metadata": {
        "colab": {
          "base_uri": "https://localhost:8080/"
        },
        "id": "WtsWJOODiTxM",
        "outputId": "6f92aa7b-f921-45aa-d9e3-7127d5c5a627"
      },
      "execution_count": 10,
      "outputs": [
        {
          "output_type": "stream",
          "name": "stdout",
          "text": [
            "La base original es: \n",
            "\n",
            "    carat      cut color clarity  depth  table  price     x     y     z\n",
            "0   0.23    Ideal     E     SI2   61.5   55.0    326  3.95  3.98  2.43\n",
            "1   0.21  Premium     E     SI1   59.8   61.0    326  3.89  3.84  2.31\n",
            "2   0.23     Good     E     VS1   56.9   65.0    327  4.05  4.07  2.31\n",
            "3   0.29  Premium     I     VS2   62.4   58.0    334  4.20  4.23  2.63\n",
            "4   0.31     Good     J     SI2   63.3   58.0    335  4.34  4.35  2.75\n",
            "\n",
            "La base modificada es: \n",
            "\n",
            "    carat  calidad color claridad  depth  table  price     x     y     z\n",
            "0   0.23    Ideal     E      SI2   61.5   55.0    326  3.95  3.98  2.43\n",
            "1   0.21  Premium     E      SI1   59.8   61.0    326  3.89  3.84  2.31\n",
            "2   0.23     Good     E      VS1   56.9   65.0    327  4.05  4.07  2.31\n",
            "3   0.29  Premium     I      VS2   62.4   58.0    334  4.20  4.23  2.63\n",
            "4   0.31     Good     J      SI2   63.3   58.0    335  4.34  4.35  2.75\n"
          ]
        }
      ]
    },
    {
      "cell_type": "code",
      "source": [
        "unknown2 = unknown.drop(unknown.columns[[1, 2]], axis=1)\n",
        "print(unknown2)\n"
      ],
      "metadata": {
        "colab": {
          "base_uri": "https://localhost:8080/"
        },
        "id": "zFR7SkVJqe8a",
        "outputId": "e51f9578-df4b-45b6-e2d5-e9e9dc929cb5"
      },
      "execution_count": 11,
      "outputs": [
        {
          "output_type": "stream",
          "name": "stdout",
          "text": [
            "       carat clarity  depth  table  price     x     y     z\n",
            "0       0.23     SI2   61.5   55.0    326  3.95  3.98  2.43\n",
            "1       0.21     SI1   59.8   61.0    326  3.89  3.84  2.31\n",
            "2       0.23     VS1   56.9   65.0    327  4.05  4.07  2.31\n",
            "3       0.29     VS2   62.4   58.0    334  4.20  4.23  2.63\n",
            "4       0.31     SI2   63.3   58.0    335  4.34  4.35  2.75\n",
            "...      ...     ...    ...    ...    ...   ...   ...   ...\n",
            "53935   0.72     SI1   60.8   57.0   2757  5.75  5.76  3.50\n",
            "53936   0.72     SI1   63.1   55.0   2757  5.69  5.75  3.61\n",
            "53937   0.70     SI1   62.8   60.0   2757  5.66  5.68  3.56\n",
            "53938   0.86     SI2   61.0   58.0   2757  6.15  6.12  3.74\n",
            "53939   0.75     SI2   62.2   55.0   2757  5.83  5.87  3.64\n",
            "\n",
            "[53940 rows x 8 columns]\n"
          ]
        }
      ]
    },
    {
      "cell_type": "code",
      "source": [
        "unknown2.drop([0, 1, 15, 200, 3000, 50000], inplace = True)\n",
        "print(unknown2)"
      ],
      "metadata": {
        "colab": {
          "base_uri": "https://localhost:8080/"
        },
        "id": "ZZwDIs6uvZn0",
        "outputId": "709c59b6-02cd-4a75-b2fd-f798d768f59b"
      },
      "execution_count": 12,
      "outputs": [
        {
          "output_type": "stream",
          "name": "stdout",
          "text": [
            "       carat clarity  depth  table  price     x     y     z\n",
            "2       0.23     VS1   56.9   65.0    327  4.05  4.07  2.31\n",
            "3       0.29     VS2   62.4   58.0    334  4.20  4.23  2.63\n",
            "4       0.31     SI2   63.3   58.0    335  4.34  4.35  2.75\n",
            "5       0.24    VVS2   62.8   57.0    336  3.94   NaN  2.48\n",
            "6       0.24    VVS1   62.3   57.0    336  3.95  3.98  2.47\n",
            "...      ...     ...    ...    ...    ...   ...   ...   ...\n",
            "53935   0.72     SI1   60.8   57.0   2757  5.75  5.76  3.50\n",
            "53936   0.72     SI1   63.1   55.0   2757  5.69  5.75  3.61\n",
            "53937   0.70     SI1   62.8   60.0   2757  5.66  5.68  3.56\n",
            "53938   0.86     SI2   61.0   58.0   2757  6.15  6.12  3.74\n",
            "53939   0.75     SI2   62.2   55.0   2757  5.83  5.87  3.64\n",
            "\n",
            "[53934 rows x 8 columns]\n"
          ]
        }
      ]
    },
    {
      "cell_type": "code",
      "source": [
        "unknown.cut.sort_values()\n",
        "type(unknown.cut.sort_values())\n",
        "print(unknown.cut.sort_values()) #Tomado así, \"cut\" es una LISTA"
      ],
      "metadata": {
        "colab": {
          "base_uri": "https://localhost:8080/"
        },
        "id": "a-rlWfylwYlS",
        "outputId": "db7c144f-5f83-4c21-a94b-f46f63b34baa"
      },
      "execution_count": 13,
      "outputs": [
        {
          "output_type": "stream",
          "name": "stdout",
          "text": [
            "3850          Fair\n",
            "51464         Fair\n",
            "51466         Fair\n",
            "10237         Fair\n",
            "10760         Fair\n",
            "           ...    \n",
            "7402     Very Good\n",
            "43101    Very Good\n",
            "16893    Very Good\n",
            "16898    Very Good\n",
            "21164    Very Good\n",
            "Name: cut, Length: 53940, dtype: object\n"
          ]
        }
      ]
    },
    {
      "cell_type": "code",
      "source": [
        "unknown.sort_values('carat', ascending = False)"
      ],
      "metadata": {
        "colab": {
          "base_uri": "https://localhost:8080/",
          "height": 424
        },
        "id": "hF1671eUybaU",
        "outputId": "f931c254-ed7d-4139-8cda-630c323572f6"
      },
      "execution_count": 14,
      "outputs": [
        {
          "output_type": "execute_result",
          "data": {
            "text/plain": [
              "       carat      cut color clarity  depth  table  price      x      y     z\n",
              "27415   5.01     Fair     J      I1   65.5   59.0  18018  10.74  10.54  6.98\n",
              "27630   4.50     Fair     J      I1   65.8   58.0  18531  10.23  10.16  6.72\n",
              "27130   4.13     Fair     H      I1   64.8   61.0  17329  10.00   9.85  6.43\n",
              "25999   4.01  Premium     J      I1   62.5   62.0  15223  10.02   9.94  6.24\n",
              "25998   4.01  Premium     I      I1   61.0   61.0  15223  10.14  10.10  6.17\n",
              "...      ...      ...   ...     ...    ...    ...    ...    ...    ...   ...\n",
              "31592   0.20  Premium     E     VS2   59.0   60.0    367   3.81   3.78  2.24\n",
              "31591   0.20  Premium     E     VS2   59.8   62.0    367   3.79   3.77  2.26\n",
              "31601   0.20  Premium     D     VS2   61.7   60.0    367   3.77   3.72  2.31\n",
              "14      0.20  Premium     E     SI2   60.2   62.0    345   3.79   3.75  2.27\n",
              "31596   0.20  Premium     F     VS2   62.6   59.0    367   3.73   3.71  2.33\n",
              "\n",
              "[53940 rows x 10 columns]"
            ],
            "text/html": [
              "\n",
              "  <div id=\"df-9c88e63a-9b7e-41d9-b47e-f5e6ce39f627\">\n",
              "    <div class=\"colab-df-container\">\n",
              "      <div>\n",
              "<style scoped>\n",
              "    .dataframe tbody tr th:only-of-type {\n",
              "        vertical-align: middle;\n",
              "    }\n",
              "\n",
              "    .dataframe tbody tr th {\n",
              "        vertical-align: top;\n",
              "    }\n",
              "\n",
              "    .dataframe thead th {\n",
              "        text-align: right;\n",
              "    }\n",
              "</style>\n",
              "<table border=\"1\" class=\"dataframe\">\n",
              "  <thead>\n",
              "    <tr style=\"text-align: right;\">\n",
              "      <th></th>\n",
              "      <th>carat</th>\n",
              "      <th>cut</th>\n",
              "      <th>color</th>\n",
              "      <th>clarity</th>\n",
              "      <th>depth</th>\n",
              "      <th>table</th>\n",
              "      <th>price</th>\n",
              "      <th>x</th>\n",
              "      <th>y</th>\n",
              "      <th>z</th>\n",
              "    </tr>\n",
              "  </thead>\n",
              "  <tbody>\n",
              "    <tr>\n",
              "      <th>27415</th>\n",
              "      <td>5.01</td>\n",
              "      <td>Fair</td>\n",
              "      <td>J</td>\n",
              "      <td>I1</td>\n",
              "      <td>65.5</td>\n",
              "      <td>59.0</td>\n",
              "      <td>18018</td>\n",
              "      <td>10.74</td>\n",
              "      <td>10.54</td>\n",
              "      <td>6.98</td>\n",
              "    </tr>\n",
              "    <tr>\n",
              "      <th>27630</th>\n",
              "      <td>4.50</td>\n",
              "      <td>Fair</td>\n",
              "      <td>J</td>\n",
              "      <td>I1</td>\n",
              "      <td>65.8</td>\n",
              "      <td>58.0</td>\n",
              "      <td>18531</td>\n",
              "      <td>10.23</td>\n",
              "      <td>10.16</td>\n",
              "      <td>6.72</td>\n",
              "    </tr>\n",
              "    <tr>\n",
              "      <th>27130</th>\n",
              "      <td>4.13</td>\n",
              "      <td>Fair</td>\n",
              "      <td>H</td>\n",
              "      <td>I1</td>\n",
              "      <td>64.8</td>\n",
              "      <td>61.0</td>\n",
              "      <td>17329</td>\n",
              "      <td>10.00</td>\n",
              "      <td>9.85</td>\n",
              "      <td>6.43</td>\n",
              "    </tr>\n",
              "    <tr>\n",
              "      <th>25999</th>\n",
              "      <td>4.01</td>\n",
              "      <td>Premium</td>\n",
              "      <td>J</td>\n",
              "      <td>I1</td>\n",
              "      <td>62.5</td>\n",
              "      <td>62.0</td>\n",
              "      <td>15223</td>\n",
              "      <td>10.02</td>\n",
              "      <td>9.94</td>\n",
              "      <td>6.24</td>\n",
              "    </tr>\n",
              "    <tr>\n",
              "      <th>25998</th>\n",
              "      <td>4.01</td>\n",
              "      <td>Premium</td>\n",
              "      <td>I</td>\n",
              "      <td>I1</td>\n",
              "      <td>61.0</td>\n",
              "      <td>61.0</td>\n",
              "      <td>15223</td>\n",
              "      <td>10.14</td>\n",
              "      <td>10.10</td>\n",
              "      <td>6.17</td>\n",
              "    </tr>\n",
              "    <tr>\n",
              "      <th>...</th>\n",
              "      <td>...</td>\n",
              "      <td>...</td>\n",
              "      <td>...</td>\n",
              "      <td>...</td>\n",
              "      <td>...</td>\n",
              "      <td>...</td>\n",
              "      <td>...</td>\n",
              "      <td>...</td>\n",
              "      <td>...</td>\n",
              "      <td>...</td>\n",
              "    </tr>\n",
              "    <tr>\n",
              "      <th>31592</th>\n",
              "      <td>0.20</td>\n",
              "      <td>Premium</td>\n",
              "      <td>E</td>\n",
              "      <td>VS2</td>\n",
              "      <td>59.0</td>\n",
              "      <td>60.0</td>\n",
              "      <td>367</td>\n",
              "      <td>3.81</td>\n",
              "      <td>3.78</td>\n",
              "      <td>2.24</td>\n",
              "    </tr>\n",
              "    <tr>\n",
              "      <th>31591</th>\n",
              "      <td>0.20</td>\n",
              "      <td>Premium</td>\n",
              "      <td>E</td>\n",
              "      <td>VS2</td>\n",
              "      <td>59.8</td>\n",
              "      <td>62.0</td>\n",
              "      <td>367</td>\n",
              "      <td>3.79</td>\n",
              "      <td>3.77</td>\n",
              "      <td>2.26</td>\n",
              "    </tr>\n",
              "    <tr>\n",
              "      <th>31601</th>\n",
              "      <td>0.20</td>\n",
              "      <td>Premium</td>\n",
              "      <td>D</td>\n",
              "      <td>VS2</td>\n",
              "      <td>61.7</td>\n",
              "      <td>60.0</td>\n",
              "      <td>367</td>\n",
              "      <td>3.77</td>\n",
              "      <td>3.72</td>\n",
              "      <td>2.31</td>\n",
              "    </tr>\n",
              "    <tr>\n",
              "      <th>14</th>\n",
              "      <td>0.20</td>\n",
              "      <td>Premium</td>\n",
              "      <td>E</td>\n",
              "      <td>SI2</td>\n",
              "      <td>60.2</td>\n",
              "      <td>62.0</td>\n",
              "      <td>345</td>\n",
              "      <td>3.79</td>\n",
              "      <td>3.75</td>\n",
              "      <td>2.27</td>\n",
              "    </tr>\n",
              "    <tr>\n",
              "      <th>31596</th>\n",
              "      <td>0.20</td>\n",
              "      <td>Premium</td>\n",
              "      <td>F</td>\n",
              "      <td>VS2</td>\n",
              "      <td>62.6</td>\n",
              "      <td>59.0</td>\n",
              "      <td>367</td>\n",
              "      <td>3.73</td>\n",
              "      <td>3.71</td>\n",
              "      <td>2.33</td>\n",
              "    </tr>\n",
              "  </tbody>\n",
              "</table>\n",
              "<p>53940 rows × 10 columns</p>\n",
              "</div>\n",
              "      <button class=\"colab-df-convert\" onclick=\"convertToInteractive('df-9c88e63a-9b7e-41d9-b47e-f5e6ce39f627')\"\n",
              "              title=\"Convert this dataframe to an interactive table.\"\n",
              "              style=\"display:none;\">\n",
              "        \n",
              "  <svg xmlns=\"http://www.w3.org/2000/svg\" height=\"24px\"viewBox=\"0 0 24 24\"\n",
              "       width=\"24px\">\n",
              "    <path d=\"M0 0h24v24H0V0z\" fill=\"none\"/>\n",
              "    <path d=\"M18.56 5.44l.94 2.06.94-2.06 2.06-.94-2.06-.94-.94-2.06-.94 2.06-2.06.94zm-11 1L8.5 8.5l.94-2.06 2.06-.94-2.06-.94L8.5 2.5l-.94 2.06-2.06.94zm10 10l.94 2.06.94-2.06 2.06-.94-2.06-.94-.94-2.06-.94 2.06-2.06.94z\"/><path d=\"M17.41 7.96l-1.37-1.37c-.4-.4-.92-.59-1.43-.59-.52 0-1.04.2-1.43.59L10.3 9.45l-7.72 7.72c-.78.78-.78 2.05 0 2.83L4 21.41c.39.39.9.59 1.41.59.51 0 1.02-.2 1.41-.59l7.78-7.78 2.81-2.81c.8-.78.8-2.07 0-2.86zM5.41 20L4 18.59l7.72-7.72 1.47 1.35L5.41 20z\"/>\n",
              "  </svg>\n",
              "      </button>\n",
              "      \n",
              "  <style>\n",
              "    .colab-df-container {\n",
              "      display:flex;\n",
              "      flex-wrap:wrap;\n",
              "      gap: 12px;\n",
              "    }\n",
              "\n",
              "    .colab-df-convert {\n",
              "      background-color: #E8F0FE;\n",
              "      border: none;\n",
              "      border-radius: 50%;\n",
              "      cursor: pointer;\n",
              "      display: none;\n",
              "      fill: #1967D2;\n",
              "      height: 32px;\n",
              "      padding: 0 0 0 0;\n",
              "      width: 32px;\n",
              "    }\n",
              "\n",
              "    .colab-df-convert:hover {\n",
              "      background-color: #E2EBFA;\n",
              "      box-shadow: 0px 1px 2px rgba(60, 64, 67, 0.3), 0px 1px 3px 1px rgba(60, 64, 67, 0.15);\n",
              "      fill: #174EA6;\n",
              "    }\n",
              "\n",
              "    [theme=dark] .colab-df-convert {\n",
              "      background-color: #3B4455;\n",
              "      fill: #D2E3FC;\n",
              "    }\n",
              "\n",
              "    [theme=dark] .colab-df-convert:hover {\n",
              "      background-color: #434B5C;\n",
              "      box-shadow: 0px 1px 3px 1px rgba(0, 0, 0, 0.15);\n",
              "      filter: drop-shadow(0px 1px 2px rgba(0, 0, 0, 0.3));\n",
              "      fill: #FFFFFF;\n",
              "    }\n",
              "  </style>\n",
              "\n",
              "      <script>\n",
              "        const buttonEl =\n",
              "          document.querySelector('#df-9c88e63a-9b7e-41d9-b47e-f5e6ce39f627 button.colab-df-convert');\n",
              "        buttonEl.style.display =\n",
              "          google.colab.kernel.accessAllowed ? 'block' : 'none';\n",
              "\n",
              "        async function convertToInteractive(key) {\n",
              "          const element = document.querySelector('#df-9c88e63a-9b7e-41d9-b47e-f5e6ce39f627');\n",
              "          const dataTable =\n",
              "            await google.colab.kernel.invokeFunction('convertToInteractive',\n",
              "                                                     [key], {});\n",
              "          if (!dataTable) return;\n",
              "\n",
              "          const docLinkHtml = 'Like what you see? Visit the ' +\n",
              "            '<a target=\"_blank\" href=https://colab.research.google.com/notebooks/data_table.ipynb>data table notebook</a>'\n",
              "            + ' to learn more about interactive tables.';\n",
              "          element.innerHTML = '';\n",
              "          dataTable['output_type'] = 'display_data';\n",
              "          await google.colab.output.renderOutput(dataTable, element);\n",
              "          const docLink = document.createElement('div');\n",
              "          docLink.innerHTML = docLinkHtml;\n",
              "          element.appendChild(docLink);\n",
              "        }\n",
              "      </script>\n",
              "    </div>\n",
              "  </div>\n",
              "  "
            ]
          },
          "metadata": {},
          "execution_count": 14
        }
      ]
    },
    {
      "cell_type": "code",
      "source": [
        "filtered_unknown = unknown[(unknown.x>5) & (unknown.y>5) & (unknown.z>5)]\n",
        "print(filtered_unknown)"
      ],
      "metadata": {
        "id": "hhT3Q9fQHgX0",
        "outputId": "d8f7b257-7f69-4cf5-c441-1363ee2e9411",
        "colab": {
          "base_uri": "https://localhost:8080/"
        }
      },
      "execution_count": 41,
      "outputs": [
        {
          "output_type": "stream",
          "name": "stdout",
          "text": [
            "       carat        cut color clarity  depth  table  price     x      y      z\n",
            "11778   1.83       Fair     J      I1   70.0   58.0   5083  7.34   7.28   5.12\n",
            "13002   2.14       Fair     J      I1   69.4   57.0   5405  7.74   7.70   5.36\n",
            "13118   2.15       Fair     J      I1   65.5   57.0   5430  8.01   7.95   5.23\n",
            "13562   1.96       Fair     F      I1   66.6   60.0   5554  7.59   7.56   5.04\n",
            "13757   2.22       Fair     J      I1   66.7   56.0   5607  8.04   8.02   5.36\n",
            "...      ...        ...   ...     ...    ...    ...    ...   ...    ...    ...\n",
            "27748   2.00  Very Good     G     SI1   63.5   56.0  18818  7.90   7.97   5.04\n",
            "27749   2.29    Premium     I     VS2   60.8   60.0  18823  8.50   8.47   5.16\n",
            "48410   0.51  Very Good     E     VS1   61.8   54.7   1970  5.12   5.15  31.80\n",
            "49189   0.51      Ideal     E     VS1   61.8   55.0   2075  5.15  31.80   5.12\n",
            "49905   0.50  Very Good     G    VVS1   63.7   58.0   2180  5.01   5.04   5.06\n",
            "\n",
            "[1457 rows x 10 columns]\n"
          ]
        }
      ]
    },
    {
      "cell_type": "code",
      "source": [
        "#filtered_unknown = filtered_unknown(x for x in filtered_unknown.carat if x > \"0.4\")\n",
        "#for x in filtered_unknown.carat:\n",
        "#print(filtered_unknown)\n",
        "#ESTE NO NOS SALIÓ, SIN EMBARGO SE PUEDE HACER ALTERNATIVAMENTE COMO\n",
        "filtered_unknown = filtered_unknown[(filtered_unknown['carat']>0.4)] #No entendemos bien porque acá hay que \"seleccionar la columna\" y no se puede,\n",
        "#como en el ejercicio anterior, usar el .carat\n",
        "print(filtered_unknown)"
      ],
      "metadata": {
        "id": "iH7CqOBtIvqj",
        "outputId": "ec56b882-543f-4ebd-c68d-911f089fa38e",
        "colab": {
          "base_uri": "https://localhost:8080/"
        }
      },
      "execution_count": 40,
      "outputs": [
        {
          "output_type": "stream",
          "name": "stdout",
          "text": [
            "       carat        cut color clarity  depth  table  price     x      y      z\n",
            "11778   1.83       Fair     J      I1   70.0   58.0   5083  7.34   7.28   5.12\n",
            "13002   2.14       Fair     J      I1   69.4   57.0   5405  7.74   7.70   5.36\n",
            "13118   2.15       Fair     J      I1   65.5   57.0   5430  8.01   7.95   5.23\n",
            "13562   1.96       Fair     F      I1   66.6   60.0   5554  7.59   7.56   5.04\n",
            "13757   2.22       Fair     J      I1   66.7   56.0   5607  8.04   8.02   5.36\n",
            "...      ...        ...   ...     ...    ...    ...    ...   ...    ...    ...\n",
            "27748   2.00  Very Good     G     SI1   63.5   56.0  18818  7.90   7.97   5.04\n",
            "27749   2.29    Premium     I     VS2   60.8   60.0  18823  8.50   8.47   5.16\n",
            "48410   0.51  Very Good     E     VS1   61.8   54.7   1970  5.12   5.15  31.80\n",
            "49189   0.51      Ideal     E     VS1   61.8   55.0   2075  5.15  31.80   5.12\n",
            "49905   0.50  Very Good     G    VVS1   63.7   58.0   2180  5.01   5.04   5.06\n",
            "\n",
            "[1457 rows x 10 columns]\n"
          ]
        }
      ]
    },
    {
      "cell_type": "code",
      "source": [
        "filtered_unknown = filtered_unknown[(filtered_unknown.cut == \"Premium\") | (filtered_unknown.cut == \"Ideal\")]\n",
        "print(filtered_unknown)"
      ],
      "metadata": {
        "id": "5TxHmZzMWPCr",
        "outputId": "0484e02a-930b-45a7-e2bd-c30dede65e9d",
        "colab": {
          "base_uri": "https://localhost:8080/"
        }
      },
      "execution_count": 45,
      "outputs": [
        {
          "output_type": "stream",
          "name": "stdout",
          "text": [
            "       carat      cut color clarity  depth  table  price     x      y     z\n",
            "15319   2.08  Premium     H      I1   61.7   57.0   6150  8.23   8.18  5.06\n",
            "15905   2.15  Premium     H      I1   62.9   57.0   6357  8.25   8.20  5.18\n",
            "16341   2.21  Premium     H      I1   62.2   58.0   6535  8.31   8.27  5.16\n",
            "17859   2.00    Ideal     H      I1   62.5   57.0   7204  8.05   7.98  5.01\n",
            "17897   2.30  Premium     G      I1   60.2   59.0   7226  8.71   8.56  5.19\n",
            "...      ...      ...   ...     ...    ...    ...    ...   ...    ...   ...\n",
            "27741   2.15    Ideal     G     SI2   62.6   54.0  18791  8.29   8.35  5.21\n",
            "27744   2.29  Premium     I     SI1   61.8   59.0  18797  8.52   8.45  5.24\n",
            "27746   2.07    Ideal     G     SI2   62.5   55.0  18804  8.20   8.13  5.11\n",
            "27749   2.29  Premium     I     VS2   60.8   60.0  18823  8.50   8.47  5.16\n",
            "49189   0.51    Ideal     E     VS1   61.8   55.0   2075  5.15  31.80  5.12\n",
            "\n",
            "[892 rows x 10 columns]\n"
          ]
        }
      ]
    },
    {
      "cell_type": "code",
      "source": [
        "print(filtered_unknown.describe())"
      ],
      "metadata": {
        "id": "LZEpPbxnXr6h",
        "outputId": "501658e6-185a-4914-bdd0-12952f61b145",
        "colab": {
          "base_uri": "https://localhost:8080/"
        }
      },
      "execution_count": 48,
      "outputs": [
        {
          "output_type": "stream",
          "name": "stdout",
          "text": [
            "            carat       depth       table         price           x  \\\n",
            "count  892.000000  892.000000  892.000000    892.000000  892.000000   \n",
            "mean     2.192253   61.828700   57.589686  15272.739910    8.333217   \n",
            "std      0.232729    0.992308    1.828563   2468.900285    0.302966   \n",
            "min      0.510000   58.200000   52.000000   2075.000000    5.150000   \n",
            "25%      2.040000   61.400000   56.000000  13610.750000    8.140000   \n",
            "50%      2.130000   62.000000   58.000000  15676.500000    8.270000   \n",
            "75%      2.270000   62.500000   59.000000  17219.500000    8.450000   \n",
            "max      4.010000   66.700000   62.000000  18823.000000   10.140000   \n",
            "\n",
            "                y           z  \n",
            "count  892.000000  892.000000  \n",
            "mean     8.388722    5.148139  \n",
            "std      1.887253    0.181206  \n",
            "min      7.650000    5.010000  \n",
            "25%      8.110000    5.040000  \n",
            "50%      8.250000    5.100000  \n",
            "75%      8.430000    5.200000  \n",
            "max     58.900000    8.060000  \n"
          ]
        }
      ]
    },
    {
      "cell_type": "code",
      "source": [
        "print(filtered_unknown.mean())"
      ],
      "metadata": {
        "id": "kGaPsf0pYRYK",
        "outputId": "6dbf448f-824b-437e-9553-59f9fa0ca7e5",
        "colab": {
          "base_uri": "https://localhost:8080/"
        }
      },
      "execution_count": 49,
      "outputs": [
        {
          "output_type": "stream",
          "name": "stdout",
          "text": [
            "carat        2.192253\n",
            "depth       61.828700\n",
            "table       57.589686\n",
            "price    15272.739910\n",
            "x            8.333217\n",
            "y            8.388722\n",
            "z            5.148139\n",
            "dtype: float64\n"
          ]
        },
        {
          "output_type": "stream",
          "name": "stderr",
          "text": [
            "/usr/local/lib/python3.7/dist-packages/ipykernel_launcher.py:1: FutureWarning: Dropping of nuisance columns in DataFrame reductions (with 'numeric_only=None') is deprecated; in a future version this will raise TypeError.  Select only valid columns before calling the reduction.\n",
            "  \"\"\"Entry point for launching an IPython kernel.\n"
          ]
        }
      ]
    },
    {
      "cell_type": "code",
      "source": [
        "print(filtered_unknown.groupby('cut').price.mean())"
      ],
      "metadata": {
        "id": "rb8naKL9YXOR",
        "outputId": "3014b143-e4b8-42d9-9c1a-7f24925f6237",
        "colab": {
          "base_uri": "https://localhost:8080/"
        }
      },
      "execution_count": 50,
      "outputs": [
        {
          "output_type": "stream",
          "name": "stdout",
          "text": [
            "cut\n",
            "Ideal      15495.588942\n",
            "Premium    15077.981092\n",
            "Name: price, dtype: float64\n"
          ]
        }
      ]
    },
    {
      "cell_type": "code",
      "source": [
        "print(filtered_unknown.groupby('cut').price.agg(['count', 'min', 'max']))"
      ],
      "metadata": {
        "id": "3ey1fCbDYjST",
        "outputId": "d51cdb06-866a-4f55-b3fa-1040cdfb01bc",
        "colab": {
          "base_uri": "https://localhost:8080/"
        }
      },
      "execution_count": 53,
      "outputs": [
        {
          "output_type": "stream",
          "name": "stdout",
          "text": [
            "         count   min    max\n",
            "cut                        \n",
            "Ideal      416  2075  18804\n",
            "Premium    476  6150  18823\n"
          ]
        }
      ]
    },
    {
      "cell_type": "code",
      "source": [
        "print(filtered_unknown.cut.unique()) #or\n",
        "print(unknown.cut.unique())"
      ],
      "metadata": {
        "id": "vId8OvpGZbYa",
        "outputId": "123ea223-bf8c-4f75-acf0-5ae404e87d07",
        "colab": {
          "base_uri": "https://localhost:8080/"
        }
      },
      "execution_count": 56,
      "outputs": [
        {
          "output_type": "stream",
          "name": "stdout",
          "text": [
            "['Premium' 'Ideal']\n",
            "['Ideal' 'Premium' 'Good' 'Very Good' 'Fair']\n"
          ]
        }
      ]
    },
    {
      "cell_type": "code",
      "source": [
        "print(unknown.cut.value_counts())"
      ],
      "metadata": {
        "id": "1-pzTs9rZ0Tw",
        "outputId": "2cb5bd2d-b736-4db6-d139-f09738e5ba1b",
        "colab": {
          "base_uri": "https://localhost:8080/"
        }
      },
      "execution_count": 57,
      "outputs": [
        {
          "output_type": "stream",
          "name": "stdout",
          "text": [
            "Ideal        21551\n",
            "Premium      13791\n",
            "Very Good    12082\n",
            "Good          4906\n",
            "Fair          1610\n",
            "Name: cut, dtype: int64\n"
          ]
        }
      ]
    },
    {
      "cell_type": "code",
      "source": [
        "#print(unknown.cut.count())\n",
        "print(unknown.cut.value_counts()/unknown.cut.count()*100)\n"
      ],
      "metadata": {
        "id": "vl3SWu1zaABh",
        "outputId": "b09d5f19-2958-432f-f111-61c88608e76d",
        "colab": {
          "base_uri": "https://localhost:8080/"
        }
      },
      "execution_count": 60,
      "outputs": [
        {
          "output_type": "stream",
          "name": "stdout",
          "text": [
            "Ideal        39.953652\n",
            "Premium      25.567297\n",
            "Very Good    22.398962\n",
            "Good          9.095291\n",
            "Fair          2.984798\n",
            "Name: cut, dtype: float64\n"
          ]
        }
      ]
    },
    {
      "cell_type": "code",
      "source": [
        "print(pd.crosstab(unknown.cut, unknown.color))"
      ],
      "metadata": {
        "id": "ECWMC6braX8g",
        "outputId": "7eaa0e44-92a8-4a00-9f77-15c1fed0e38e",
        "colab": {
          "base_uri": "https://localhost:8080/"
        }
      },
      "execution_count": 70,
      "outputs": [
        {
          "output_type": "stream",
          "name": "stdout",
          "text": [
            "color         D     E     F     G     H     I    J\n",
            "cut                                               \n",
            "Fair        163   224   312   314   303   175  119\n",
            "Good        662   933   909   871   702   522  307\n",
            "Ideal      2834  3903  3826  4884  3115  2093  896\n",
            "Premium    1603  2337  2331  2924  2360  1428  808\n",
            "Very Good  1513  2400  2164  2299  1824  1204  678\n"
          ]
        }
      ]
    },
    {
      "cell_type": "code",
      "source": [
        "cutvalues = unknown.cut.value_counts()\n",
        "print(cutvalues)\n",
        "print(cutvalues.plot(kind='hist'))"
      ],
      "metadata": {
        "id": "FjbsVJC-cJ_Y",
        "outputId": "5f7062c4-bf7b-4f8c-aa73-a0b4ce4270ad",
        "colab": {
          "base_uri": "https://localhost:8080/",
          "height": 387
        }
      },
      "execution_count": 79,
      "outputs": [
        {
          "output_type": "stream",
          "name": "stdout",
          "text": [
            "Ideal        21551\n",
            "Premium      13791\n",
            "Very Good    12082\n",
            "Good          4906\n",
            "Fair          1610\n",
            "Name: cut, dtype: int64\n",
            "AxesSubplot(0.125,0.125;0.775x0.755)\n"
          ]
        },
        {
          "output_type": "display_data",
          "data": {
            "text/plain": [
              "<Figure size 432x288 with 1 Axes>"
            ],
            "image/png": "[encoded data removed]"
          },
          "metadata": {
            "needs_background": "light"
          }
        }
      ]
    },
    {
      "cell_type": "markdown",
      "source": [
        ""
      ],
      "metadata": {
        "id": "c7qfFyxssfLu"
      }
    }
  ]
}